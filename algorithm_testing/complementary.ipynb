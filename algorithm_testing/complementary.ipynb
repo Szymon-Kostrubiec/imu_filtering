{
 "cells": [
  {
   "cell_type": "markdown",
   "source": [
    "# Complementary filter\n",
    "\n",
    "The basic principle behind the complementary filter is to take advantage of the strengths of two different sensors and mitigate their weaknesses by combining their outputs in a complementary manner. For instance, consider the common application of estimating the orientation of a flying drone using data from an accelerometer and a gyroscope:\n",
    "Accelerometers measure linear acceleration, including gravity, which can be used to determine the inclination of the device relative to the Earth. However, they are prone to noise from vibration and sudden movements, and cannot track orientation accurately without a reference to gravity.\n",
    "Gyroscopes measure the rate of rotation around an axis and can provide smooth and responsive measurements of angular motion. However, they suffer from drift over time due to integration of angular velocity to calculate orientation, leading to increasing error in the absence of a corrective reference.\n",
    "\n",
    "The complementary filter operates by mathematically combining the accelerometer and gyroscope outputs to produce a single, more accurate estimation of orientation. The filter is called \"complementary\" because it essentially blends the high-frequency component (where the gyroscope excels) with the low-frequency component (where the accelerometer data is more reliable), thus complementing the strengths of each sensor.\n",
    "\n",
    "A simple implementation of the complementary filter can be described by the following equation, which computes the estimated orientation as a weighted sum of the gyroscope-based orientation  and the accelerometer-based orientation:\n",
    "$$\n",
    "\\hat{\\theta} = \\alpha \\cdot (\\hat{\\theta} + \\theta_{gyro} \\cdot \\Delta t) + (1 - \\alpha) \\cdot \\theta_{accel}\n",
    "$$"
   ],
   "metadata": {
    "collapsed": false
   },
   "id": "2aee9e977e469c73"
  },
  {
   "cell_type": "code",
   "execution_count": 1,
   "id": "initial_id",
   "metadata": {
    "collapsed": true,
    "ExecuteTime": {
     "end_time": "2024-02-19T19:48:49.833603018Z",
     "start_time": "2024-02-19T19:48:48.785081174Z"
    }
   },
   "outputs": [],
   "source": [
    "import numpy as np\n",
    "from matplotlib import pyplot as plt\n",
    "from test_data.import_data import get_data, get_gt\n",
    "from ahrs import filters\n",
    "from ahrs.common import Quaternion\n",
    "from ahrs.common.orientation import acc2q\n",
    "\n",
    "gain = 0.9\n",
    "sample_rate = 1000\n",
    "\n",
    "complementary = filters.complementary.Complementary(frequency=sample_rate, gain=gain)\n",
    "initial_pos_estimator = filters.Tilt()"
   ]
  },
  {
   "cell_type": "code",
   "outputs": [],
   "source": [
    "[acc, gyro, mag] = get_data()\n",
    "\n",
    "estimations = np.empty((len(acc), 4))\n",
    "estimations[0] = initial_pos_estimator.estimate(acc=acc[0], mag=mag[0]) \n",
    "\n",
    "for i in range(len(acc)):\n",
    "    estimations[i] = complementary.update(estimations[i-1], acc[i], gyro[i], mag[i])"
   ],
   "metadata": {
    "collapsed": false,
    "ExecuteTime": {
     "end_time": "2024-02-19T19:48:50.342724682Z",
     "start_time": "2024-02-19T19:48:49.833449430Z"
    }
   },
   "id": "bdcb768b3b456a25",
   "execution_count": 2
  },
  {
   "cell_type": "code",
   "outputs": [],
   "source": [
    "def clamp_to_360(x):\n",
    "    x = np.mod(x, 360)\n",
    "    return x"
   ],
   "metadata": {
    "collapsed": false,
    "ExecuteTime": {
     "end_time": "2024-02-19T19:48:50.357054375Z",
     "start_time": "2024-02-19T19:48:50.344957868Z"
    }
   },
   "id": "678fac90752761c6",
   "execution_count": 3
  },
  {
   "cell_type": "code",
   "outputs": [],
   "source": [
    "from utils import quaternion_to_euler\n",
    "phi_hat, theta_hat, psi_hat = quaternion_to_euler(estimations)\n",
    "\n",
    "phi_hat = clamp_to_360(phi_hat)\n",
    "theta_hat = clamp_to_360(theta_hat)\n",
    "psi_hat = clamp_to_360(psi_hat + 90) # todo: mind the + 90 here"
   ],
   "metadata": {
    "collapsed": false,
    "ExecuteTime": {
     "end_time": "2024-02-19T19:50:41.126431867Z",
     "start_time": "2024-02-19T19:50:40.862228444Z"
    }
   },
   "id": "5e6c70094f24c1cc",
   "execution_count": 16
  },
  {
   "cell_type": "code",
   "outputs": [],
   "source": [
    "phi, theta, psi = quaternion_to_euler(get_gt())"
   ],
   "metadata": {
    "collapsed": false,
    "ExecuteTime": {
     "end_time": "2024-02-19T19:50:41.282468250Z",
     "start_time": "2024-02-19T19:50:41.129975616Z"
    }
   },
   "id": "9781ad1b239714",
   "execution_count": 17
  },
  {
   "cell_type": "code",
   "outputs": [
    {
     "data": {
      "text/plain": "<Figure size 640x480 with 3 Axes>",
      "image/png": "[encoded data removed]"
     },
     "metadata": {},
     "output_type": "display_data"
    }
   ],
   "source": [
    "%matplotlib inline\n",
    "\n",
    "plt.subplot(3, 1, 1)\n",
    "plt.plot(phi_hat, 'b')\n",
    "plt.plot(phi, 'r')\n",
    "plt.grid()\n",
    "\n",
    "plt.subplot(3, 1, 2)\n",
    "plt.plot(theta_hat, 'b')\n",
    "plt.plot(theta, 'r')\n",
    "plt.grid()\n",
    "\n",
    "plt.subplot(3, 1, 3)\n",
    "plt.plot(psi_hat, 'b')\n",
    "plt.plot(psi, 'r')\n",
    "plt.grid()\n",
    "\n",
    "plt.show()\n"
   ],
   "metadata": {
    "collapsed": false,
    "ExecuteTime": {
     "end_time": "2024-02-19T19:51:59.243088004Z",
     "start_time": "2024-02-19T19:51:58.929896860Z"
    }
   },
   "id": "dfc48a144a01a407",
   "execution_count": 23
  },
  {
   "cell_type": "code",
   "outputs": [
    {
     "name": "stdout",
     "output_type": "stream",
     "text": [
      "[6.84689156e-19 6.47403833e-20 6.46004820e-21 ... 0.00000000e+00\n",
      " 0.00000000e+00 0.00000000e+00]\n"
     ]
    }
   ],
   "source": [
    "print(phi_hat)"
   ],
   "metadata": {
    "collapsed": false,
    "ExecuteTime": {
     "end_time": "2024-02-19T19:48:51.201209863Z",
     "start_time": "2024-02-19T19:48:51.196968558Z"
    }
   },
   "id": "5b2df3f0bcf3af51",
   "execution_count": 7
  },
  {
   "cell_type": "code",
   "outputs": [
    {
     "data": {
      "text/plain": "array([[ 7.93014747e-01,  7.50630454e-21, -3.68184129e-23,\n        -6.09202438e-01],\n       [ 7.45889410e-01,  7.50862069e-22, -7.36613211e-24,\n        -6.66069807e-01],\n       [ 7.40954047e-01,  7.50823200e-23, -1.10490694e-24,\n        -6.71555731e-01],\n       ...,\n       [ 7.33259447e-01,  0.00000000e+00,  0.00000000e+00,\n        -6.79948957e-01],\n       [ 7.36488818e-01,  0.00000000e+00,  0.00000000e+00,\n        -6.76449718e-01],\n       [ 7.36810836e-01,  0.00000000e+00,  0.00000000e+00,\n        -6.76098951e-01]])"
     },
     "execution_count": 8,
     "metadata": {},
     "output_type": "execute_result"
    }
   ],
   "source": [
    "estimations"
   ],
   "metadata": {
    "collapsed": false,
    "ExecuteTime": {
     "end_time": "2024-02-19T19:48:51.212509101Z",
     "start_time": "2024-02-19T19:48:51.201753549Z"
    }
   },
   "id": "758ff9d7d72aeef8",
   "execution_count": 8
  },
  {
   "cell_type": "code",
   "outputs": [],
   "source": [],
   "metadata": {
    "collapsed": false,
    "ExecuteTime": {
     "end_time": "2024-02-19T19:48:51.287680247Z",
     "start_time": "2024-02-19T19:48:51.209340369Z"
    }
   },
   "id": "b0cb3cb9ea688553",
   "execution_count": 8
  }
 ],
 "metadata": {
  "kernelspec": {
   "display_name": "Python 3",
   "language": "python",
   "name": "python3"
  },
  "language_info": {
   "codemirror_mode": {
    "name": "ipython",
    "version": 2
   },
   "file_extension": ".py",
   "mimetype": "text/x-python",
   "name": "python",
   "nbconvert_exporter": "python",
   "pygments_lexer": "ipython2",
   "version": "2.7.6"
  }
 },
 "nbformat": 4,
 "nbformat_minor": 5
}
