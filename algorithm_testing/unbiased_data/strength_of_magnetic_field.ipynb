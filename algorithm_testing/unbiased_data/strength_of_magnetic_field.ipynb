{
 "cells": [
  {
   "cell_type": "code",
   "execution_count": 20,
   "id": "initial_id",
   "metadata": {
    "collapsed": true,
    "ExecuteTime": {
     "end_time": "2024-02-18T17:03:47.660831426Z",
     "start_time": "2024-02-18T17:03:47.613707690Z"
    }
   },
   "outputs": [],
   "source": [
    "from geopy.geocoders import Nominatim\n",
    "\n",
    "app = Nominatim(user_agent=\"tutorial\")"
   ]
  },
  {
   "cell_type": "code",
   "outputs": [],
   "source": [
    "location = app.geocode(\"Szczecin\")"
   ],
   "metadata": {
    "collapsed": false,
    "ExecuteTime": {
     "end_time": "2024-02-18T17:03:47.940834108Z",
     "start_time": "2024-02-18T17:03:47.661145058Z"
    }
   },
   "id": "e200b6cf350db505",
   "execution_count": 21
  },
  {
   "cell_type": "code",
   "outputs": [
    {
     "name": "stdout",
     "output_type": "stream",
     "text": [
      "Szczecin, województwo zachodniopomorskie, Polska\n",
      "Lat 53.4301818\n",
      "Lon 14.5509623\n"
     ]
    }
   ],
   "source": [
    "print(location)\n",
    "print(f'Lat {location.latitude}')\n",
    "print(f'Lon {location.longitude}')"
   ],
   "metadata": {
    "collapsed": false,
    "ExecuteTime": {
     "end_time": "2024-02-18T17:03:47.941487831Z",
     "start_time": "2024-02-18T17:03:47.940617832Z"
    }
   },
   "id": "636481db7099818b",
   "execution_count": 22
  },
  {
   "cell_type": "code",
   "outputs": [],
   "source": [
    "from ahrs.utils import WMM\n",
    "\n",
    "world_magnetic_model = WMM()\n",
    "world_magnetic_model.magnetic_field(location.latitude, location.longitude)"
   ],
   "metadata": {
    "collapsed": false,
    "ExecuteTime": {
     "end_time": "2024-02-18T17:03:47.941967835Z",
     "start_time": "2024-02-18T17:03:47.940878474Z"
    }
   },
   "id": "dd3526f78d19fc3b",
   "execution_count": 23
  },
  {
   "cell_type": "code",
   "outputs": [
    {
     "name": "stdout",
     "output_type": "stream",
     "text": [
      "Northerly intensity: 18.10419348921821 uT\n",
      "Easterly intensity: 1.6945128576503428 uT\n",
      "Vertical intensity: 46.87653080197217 uT\n"
     ]
    }
   ],
   "source": [
    "print(f'Northerly intensity: {world_magnetic_model.X / 1000} uT')\n",
    "print(f'Easterly intensity: {world_magnetic_model.Y / 1000} uT')\n",
    "print(f'Vertical intensity: {world_magnetic_model.Z / 1000} uT')"
   ],
   "metadata": {
    "collapsed": false,
    "ExecuteTime": {
     "end_time": "2024-02-18T17:03:47.942325103Z",
     "start_time": "2024-02-18T17:03:47.940963042Z"
    }
   },
   "id": "47ea6fa2defaf387",
   "execution_count": 24
  },
  {
   "cell_type": "code",
   "outputs": [],
   "source": [],
   "metadata": {
    "collapsed": false,
    "ExecuteTime": {
     "end_time": "2024-02-18T17:03:47.942730728Z",
     "start_time": "2024-02-18T17:03:47.941091902Z"
    }
   },
   "id": "ca094752ce0c13b9",
   "execution_count": 24
  }
 ],
 "metadata": {
  "kernelspec": {
   "display_name": "Python 3",
   "language": "python",
   "name": "python3"
  },
  "language_info": {
   "codemirror_mode": {
    "name": "ipython",
    "version": 2
   },
   "file_extension": ".py",
   "mimetype": "text/x-python",
   "name": "python",
   "nbconvert_exporter": "python",
   "pygments_lexer": "ipython2",
   "version": "2.7.6"
  }
 },
 "nbformat": 4,
 "nbformat_minor": 5
}
