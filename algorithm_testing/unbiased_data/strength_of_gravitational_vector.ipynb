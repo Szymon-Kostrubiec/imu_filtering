{
 "cells": [
  {
   "cell_type": "code",
   "execution_count": 1,
   "id": "initial_id",
   "metadata": {
    "collapsed": true,
    "ExecuteTime": {
     "end_time": "2024-02-19T20:04:05.825587113Z",
     "start_time": "2024-02-19T20:04:05.776588242Z"
    }
   },
   "outputs": [],
   "source": [
    "from geopy.geocoders import Nominatim\n",
    "\n",
    "app = Nominatim(user_agent=\"tutorial\")\n"
   ]
  },
  {
   "cell_type": "code",
   "outputs": [],
   "source": [
    "location = app.geocode(\"Szczecin\")\n"
   ],
   "metadata": {
    "collapsed": false,
    "ExecuteTime": {
     "end_time": "2024-02-19T20:04:07.515907694Z",
     "start_time": "2024-02-19T20:04:06.940382001Z"
    }
   },
   "id": "6cdfbca6a2f62ec7",
   "execution_count": 2
  },
  {
   "cell_type": "code",
   "outputs": [
    {
     "name": "stdout",
     "output_type": "stream",
     "text": [
      "Szczecin, województwo zachodniopomorskie, Polska\n",
      "Lat 53.4301818\n",
      "Lon 14.5509623\n"
     ]
    }
   ],
   "source": [
    "print(location)\n",
    "print(f'Lat {location.latitude}')\n",
    "print(f'Lon {location.longitude}')\n"
   ],
   "metadata": {
    "collapsed": false,
    "ExecuteTime": {
     "end_time": "2024-02-19T20:04:22.464665164Z",
     "start_time": "2024-02-19T20:04:22.411151445Z"
    }
   },
   "id": "3993374c6f52d653",
   "execution_count": 3
  },
  {
   "cell_type": "code",
   "outputs": [
    {
     "data": {
      "text/plain": "9.810702135603085"
     },
     "execution_count": 5,
     "metadata": {},
     "output_type": "execute_result"
    }
   ],
   "source": [
    "from ahrs.utils import WGS\n",
    "\n",
    "wgs = WGS()\n",
    "\n",
    "# the standard gravity is determined at lattitude 50\n",
    "standard_gravity = wgs.normal_gravity(50)\n",
    "\n",
    "standard_gravity"
   ],
   "metadata": {
    "collapsed": false,
    "ExecuteTime": {
     "end_time": "2024-02-19T20:06:43.414635726Z",
     "start_time": "2024-02-19T20:06:43.367182351Z"
    }
   },
   "id": "cd6bbc68ce62809b",
   "execution_count": 5
  },
  {
   "cell_type": "code",
   "outputs": [
    {
     "data": {
      "text/plain": "9.813723238848363"
     },
     "execution_count": 7,
     "metadata": {},
     "output_type": "execute_result"
    }
   ],
   "source": [
    "gravity_in_location = wgs.normal_gravity(location.latitude)\n",
    "\n",
    "gravity_in_location"
   ],
   "metadata": {
    "collapsed": false,
    "ExecuteTime": {
     "end_time": "2024-02-19T20:07:33.122911087Z",
     "start_time": "2024-02-19T20:07:33.117815394Z"
    }
   },
   "id": "12685d47864a0d9c",
   "execution_count": 7
  },
  {
   "cell_type": "code",
   "outputs": [
    {
     "data": {
      "text/plain": "0.030784475695405145"
     },
     "execution_count": 10,
     "metadata": {},
     "output_type": "execute_result"
    }
   ],
   "source": [
    "difference = abs(standard_gravity - gravity_in_location) / gravity_in_location\n",
    "\n",
    "difference * 100"
   ],
   "metadata": {
    "collapsed": false,
    "ExecuteTime": {
     "end_time": "2024-02-19T20:08:10.387571731Z",
     "start_time": "2024-02-19T20:08:10.341426785Z"
    }
   },
   "id": "7e8bccfc8a1a789c",
   "execution_count": 10
  },
  {
   "cell_type": "code",
   "outputs": [],
   "source": [],
   "metadata": {
    "collapsed": false
   },
   "id": "6bc3772f1ccff83c"
  }
 ],
 "metadata": {
  "kernelspec": {
   "display_name": "Python 3",
   "language": "python",
   "name": "python3"
  },
  "language_info": {
   "codemirror_mode": {
    "name": "ipython",
    "version": 2
   },
   "file_extension": ".py",
   "mimetype": "text/x-python",
   "name": "python",
   "nbconvert_exporter": "python",
   "pygments_lexer": "ipython2",
   "version": "2.7.6"
  }
 },
 "nbformat": 4,
 "nbformat_minor": 5
}
