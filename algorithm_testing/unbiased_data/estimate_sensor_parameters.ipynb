{
 "cells": [
  {
   "cell_type": "markdown",
   "source": [
    "# Estimating the sensor parameters\n",
    "\n",
    "An important part of estimating the sensor parameters is in calibration, where calibration matrices, corresponding to the sensor parameters, are estimated.\n",
    "\n",
    "Here, the rest of interesting parameters, such as noise spectral density, are estimated."
   ],
   "metadata": {
    "collapsed": false
   },
   "id": "a182f725ae410df5"
  },
  {
   "cell_type": "markdown",
   "source": [
    "## Noise spectral density"
   ],
   "metadata": {
    "collapsed": false
   },
   "id": "698ec3fdbb5ba056"
  },
  {
   "cell_type": "code",
   "outputs": [],
   "source": [
    "import numpy as np\n",
    "from test_data.import_data import get_data, get_gt\n",
    "from matplotlib import pyplot as plt\n",
    "\n",
    "acc, gyro, mag = get_data()"
   ],
   "metadata": {
    "collapsed": false,
    "ExecuteTime": {
     "end_time": "2024-03-17T11:44:05.128540Z",
     "start_time": "2024-03-17T11:44:04.486903Z"
    }
   },
   "id": "2e0dc737a1207b9d",
   "execution_count": 1
  },
  {
   "cell_type": "markdown",
   "source": [],
   "metadata": {
    "collapsed": false
   },
   "id": "81949a8cdf081b55"
  },
  {
   "cell_type": "code",
   "outputs": [],
   "source": [
    "# todo: add ARMA"
   ],
   "metadata": {
    "collapsed": false,
    "ExecuteTime": {
     "end_time": "2024-03-17T11:44:05.133278Z",
     "start_time": "2024-03-17T11:44:05.130508Z"
    }
   },
   "id": "7dc9228c9116343f",
   "execution_count": 2
  },
  {
   "cell_type": "markdown",
   "source": [
    "# Allan Variance"
   ],
   "metadata": {
    "collapsed": false
   },
   "id": "345fd879eb1cdedc"
  },
  {
   "cell_type": "code",
   "outputs": [],
   "source": [
    "import allantools\n",
    "\n",
    "[acc, gyro, mag] = get_data()"
   ],
   "metadata": {
    "collapsed": false,
    "ExecuteTime": {
     "end_time": "2024-03-17T11:44:05.748884Z",
     "start_time": "2024-03-17T11:44:05.134926Z"
    }
   },
   "id": "ba28c013b8e93342",
   "execution_count": 3
  },
  {
   "cell_type": "code",
   "outputs": [],
   "source": [
    "[taus2, ad_values, ad_errors, _] = allantools.oadev(acc[:, 0], rate=1000, taus=\"all\")"
   ],
   "metadata": {
    "collapsed": false,
    "ExecuteTime": {
     "end_time": "2024-03-17T11:44:05.921848Z",
     "start_time": "2024-03-17T11:44:05.750171Z"
    }
   },
   "id": "318270bff0a34211",
   "execution_count": 4
  },
  {
   "cell_type": "code",
   "outputs": [
    {
     "data": {
      "text/plain": "[<matplotlib.lines.Line2D at 0x77f7842fd910>]"
     },
     "execution_count": 5,
     "metadata": {},
     "output_type": "execute_result"
    },
    {
     "data": {
      "text/plain": "<Figure size 640x480 with 1 Axes>",
      "image/png": "[encoded data removed]"
     },
     "metadata": {},
     "output_type": "display_data"
    }
   ],
   "source": [
    "plt.plot(taus2, ad_values)"
   ],
   "metadata": {
    "collapsed": false,
    "ExecuteTime": {
     "end_time": "2024-03-17T11:44:06.123266Z",
     "start_time": "2024-03-17T11:44:05.924132Z"
    }
   },
   "id": "17d37bb4c0ad3e4b",
   "execution_count": 5
  },
  {
   "cell_type": "code",
   "outputs": [],
   "source": [],
   "metadata": {
    "collapsed": false,
    "ExecuteTime": {
     "end_time": "2024-03-17T11:44:06.127628Z",
     "start_time": "2024-03-17T11:44:06.124580Z"
    }
   },
   "id": "92ca55495b68ddd9",
   "execution_count": 5
  },
  {
   "cell_type": "markdown",
   "source": [
    "# ARMA"
   ],
   "metadata": {
    "collapsed": false
   },
   "id": "8b523ede1ca14f0a"
  },
  {
   "cell_type": "code",
   "outputs": [],
   "source": [],
   "metadata": {
    "collapsed": false,
    "ExecuteTime": {
     "end_time": "2024-03-17T11:44:06.131717Z",
     "start_time": "2024-03-17T11:44:06.129124Z"
    }
   },
   "id": "d7f69858cead396f",
   "execution_count": 5
  }
 ],
 "metadata": {
  "kernelspec": {
   "display_name": "Python 3",
   "language": "python",
   "name": "python3"
  },
  "language_info": {
   "codemirror_mode": {
    "name": "ipython",
    "version": 2
   },
   "file_extension": ".py",
   "mimetype": "text/x-python",
   "name": "python",
   "nbconvert_exporter": "python",
   "pygments_lexer": "ipython2",
   "version": "2.7.6"
  }
 },
 "nbformat": 4,
 "nbformat_minor": 5
}
