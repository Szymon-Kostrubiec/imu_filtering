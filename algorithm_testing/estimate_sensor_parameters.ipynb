{
 "cells": [
  {
   "cell_type": "markdown",
   "source": [
    "# Estimating the sensor parameters\n",
    "\n",
    "An important part of estimating the sensor parameters is in calibration, where calibration matrices, corresponding to the sensor parameters, are estimated.\n",
    "\n",
    "Here, the rest of interesting parameters, such as noise spectral density, are estimated."
   ],
   "metadata": {
    "collapsed": false
   },
   "id": "a182f725ae410df5"
  },
  {
   "cell_type": "markdown",
   "source": [
    "## Noise spectral density"
   ],
   "metadata": {
    "collapsed": false
   },
   "id": "698ec3fdbb5ba056"
  },
  {
   "cell_type": "code",
   "outputs": [],
   "source": [
    "import numpy as np\n",
    "from test_data.import_data import get_data, get_gt\n",
    "\n",
    "acc, gyro, mag = get_data()\n"
   ],
   "metadata": {
    "collapsed": false,
    "ExecuteTime": {
     "end_time": "2024-02-18T18:21:00.966821786Z",
     "start_time": "2024-02-18T18:21:00.661047073Z"
    }
   },
   "id": "2e0dc737a1207b9d",
   "execution_count": 1
  },
  {
   "cell_type": "markdown",
   "source": [],
   "metadata": {
    "collapsed": false
   },
   "id": "81949a8cdf081b55"
  },
  {
   "cell_type": "code",
   "outputs": [],
   "source": [],
   "metadata": {
    "collapsed": false,
    "ExecuteTime": {
     "end_time": "2024-02-18T18:21:10.956933560Z",
     "start_time": "2024-02-18T18:21:10.954503495Z"
    }
   },
   "id": "7dc9228c9116343f",
   "execution_count": 1
  },
  {
   "cell_type": "markdown",
   "source": [
    "## Random walk rate"
   ],
   "metadata": {
    "collapsed": false
   },
   "id": "345fd879eb1cdedc"
  },
  {
   "cell_type": "code",
   "outputs": [],
   "source": [],
   "metadata": {
    "collapsed": false
   },
   "id": "ba28c013b8e93342"
  }
 ],
 "metadata": {
  "kernelspec": {
   "display_name": "Python 3",
   "language": "python",
   "name": "python3"
  },
  "language_info": {
   "codemirror_mode": {
    "name": "ipython",
    "version": 2
   },
   "file_extension": ".py",
   "mimetype": "text/x-python",
   "name": "python",
   "nbconvert_exporter": "python",
   "pygments_lexer": "ipython2",
   "version": "2.7.6"
  }
 },
 "nbformat": 4,
 "nbformat_minor": 5
}
