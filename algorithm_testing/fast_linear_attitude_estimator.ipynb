{
 "cells": [
  {
   "cell_type": "markdown",
   "source": [
    "# Fast Linear Attitude Estimator\n",
    "\n",
    "FLAE operates by exploiting the geometric properties of rotation matrices and vector observations to produce a fast and straightforward estimate of the attitude. The method often involves the following steps:\n",
    "Vector Observations: Collect measurements from sensors that provide vector information relative to the body and the inertial frame. Commonly, this involves measurements from an accelerometer (gravity vector) and a magnetometer (Earth's magnetic field vector).\n",
    "\n",
    "Formulate an optimization problem that aims to find the best rotation matrix (or quaternion) that aligns the measured vectors in the body frame to their known directions in the inertial frame. This problem is typically set up to minimize the error between the measured vectors and their expected directions after rotation.\n",
    "\n",
    "Solve the optimization problem using linear algebra techniques. The FLAE method leverages the fact that under certain conditions, this optimization problem can be linearized, allowing for a faster solution compared to nonlinear methods."
   ],
   "metadata": {
    "collapsed": false
   },
   "id": "9d1f85b38956f8b0"
  },
  {
   "cell_type": "code",
   "execution_count": null,
   "id": "initial_id",
   "metadata": {
    "collapsed": true
   },
   "outputs": [],
   "source": [
    "import numpy as np\n",
    "from matplotlib import pyplot as plt\n",
    "from test_data.import_data import get_data, get_gt\n",
    "from ahrs import filters\n",
    "\n",
    "# a method that does not use the gyroscope\n",
    "\n",
    "sensor_weights = [0.5, 0.5]\n",
    "\n",
    "flae = filters.flae.FLAE(weights=sensor_weights)\n"
   ]
  }
 ],
 "metadata": {
  "kernelspec": {
   "display_name": "Python 3",
   "language": "python",
   "name": "python3"
  },
  "language_info": {
   "codemirror_mode": {
    "name": "ipython",
    "version": 2
   },
   "file_extension": ".py",
   "mimetype": "text/x-python",
   "name": "python",
   "nbconvert_exporter": "python",
   "pygments_lexer": "ipython2",
   "version": "2.7.6"
  }
 },
 "nbformat": 4,
 "nbformat_minor": 5
}
