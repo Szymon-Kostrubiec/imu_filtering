{
 "cells": [
  {
   "cell_type": "code",
   "execution_count": 1,
   "id": "initial_id",
   "metadata": {
    "collapsed": true,
    "ExecuteTime": {
     "end_time": "2024-03-17T14:43:47.934516Z",
     "start_time": "2024-03-17T14:43:47.495797Z"
    }
   },
   "outputs": [
    {
     "name": "stdout",
     "output_type": "stream",
     "text": [
      "[0.01874973 0.07373471 0.06578995]\n"
     ]
    }
   ],
   "source": [
    "import numpy as np\n",
    "import pandas as pd\n",
    "\n",
    "offsets = np.mean(pd.read_csv('gyro_offset.csv').to_numpy(), axis=0)\n",
    "print(offsets)\n",
    "\n",
    "angular_rates_x = pd.read_csv('gyro_x.csv').to_numpy() - offsets[0]\n",
    "angular_rates_y = pd.read_csv('gyro_y.csv').to_numpy() - offsets[1]\n",
    "angular_rates_z = pd.read_csv('gyro_z.csv').to_numpy() - offsets[2]"
   ]
  },
  {
   "cell_type": "markdown",
   "source": [
    "Offsets are really far from gt offsets"
   ],
   "metadata": {
    "collapsed": false
   },
   "id": "ae0518082af906fe"
  },
  {
   "cell_type": "code",
   "outputs": [
    {
     "name": "stdout",
     "output_type": "stream",
     "text": [
      "x: [89.258718    9.1704333  14.95849953]\n",
      "y: [-16.97847894  78.58034816  -9.58001803]\n",
      "z: [-17.09447971  -9.22413469  85.12186937]\n"
     ]
    }
   ],
   "source": [
    "sample_rate = 1000\n",
    "angles_x = np.sum(angular_rates_x, axis=0) / sample_rate\n",
    "angles_y = np.sum(angular_rates_y, axis=0) / sample_rate\n",
    "angles_z = np.sum(angular_rates_z, axis=0) / sample_rate\n",
    "print(f\"x: {angles_x * 180 / np.pi}\")\n",
    "print(f\"y: {angles_y * 180 / np.pi}\")\n",
    "print(f\"z: {angles_z * 180 / np.pi}\")"
   ],
   "metadata": {
    "collapsed": false,
    "ExecuteTime": {
     "end_time": "2024-03-17T14:43:47.941434Z",
     "start_time": "2024-03-17T14:43:47.936287Z"
    }
   },
   "id": "dd20f8d9ae755bb5",
   "execution_count": 2
  },
  {
   "cell_type": "code",
   "outputs": [],
   "source": [
    "true_angles_x = np.array([np.pi / 2, 0, 0])\n",
    "true_angles_y = np.array([0, np.pi / 2, 0])\n",
    "true_angles_z = np.array([0, 0, np.pi / 2])"
   ],
   "metadata": {
    "collapsed": false,
    "ExecuteTime": {
     "end_time": "2024-03-17T14:43:47.949286Z",
     "start_time": "2024-03-17T14:43:47.942660Z"
    }
   },
   "id": "db9f3727a13e3106",
   "execution_count": 3
  },
  {
   "cell_type": "code",
   "outputs": [
    {
     "data": {
      "text/plain": "array([[ 89.258718  ,   9.1704333 ,  14.95849953],\n       [-16.97847894,  78.58034816,  -9.58001803],\n       [-17.09447971,  -9.22413469,  85.12186937]])"
     },
     "execution_count": 4,
     "metadata": {},
     "output_type": "execute_result"
    }
   ],
   "source": [
    "Yg = np.array([angles_x, angles_y, angles_z])\n",
    "Yg * 180 / np.pi"
   ],
   "metadata": {
    "collapsed": false,
    "ExecuteTime": {
     "end_time": "2024-03-17T14:43:47.956904Z",
     "start_time": "2024-03-17T14:43:47.950630Z"
    }
   },
   "id": "a98a8b5b9145ed4f",
   "execution_count": 4
  },
  {
   "cell_type": "code",
   "outputs": [],
   "source": [
    "Ug = np.array([true_angles_x, true_angles_y, true_angles_z])"
   ],
   "metadata": {
    "collapsed": false,
    "ExecuteTime": {
     "end_time": "2024-03-17T14:43:47.962061Z",
     "start_time": "2024-03-17T14:43:47.959133Z"
    }
   },
   "id": "392f668194325973",
   "execution_count": 5
  },
  {
   "cell_type": "code",
   "outputs": [
    {
     "data": {
      "text/plain": "array([[ 1.01074305, -0.11459167, -0.04117802],\n       [ 0.        ,  0.89225429, -0.17825395],\n       [ 0.        ,  0.        ,  0.95270445]])"
     },
     "execution_count": 6,
     "metadata": {},
     "output_type": "execute_result"
    }
   ],
   "source": [
    "invUg = np.linalg.inv(Ug)\n",
    "ST = np.linalg.cholesky((Yg @ invUg) @ (Yg @ invUg).T).T\n",
    "ST"
   ],
   "metadata": {
    "collapsed": false,
    "ExecuteTime": {
     "end_time": "2024-03-17T14:43:47.970372Z",
     "start_time": "2024-03-17T14:43:47.963579Z"
    }
   },
   "id": "e882b71e60a99862",
   "execution_count": 6
  },
  {
   "cell_type": "code",
   "outputs": [],
   "source": [
    "import scipy\n",
    "\n",
    "S, T = scipy.linalg.lu(ST, permute_l=True)"
   ],
   "metadata": {
    "collapsed": false,
    "ExecuteTime": {
     "end_time": "2024-03-17T14:43:48.106469Z",
     "start_time": "2024-03-17T14:43:47.972062Z"
    }
   },
   "id": "46eafdb529894d8",
   "execution_count": 7
  },
  {
   "cell_type": "code",
   "outputs": [
    {
     "name": "stdout",
     "output_type": "stream",
     "text": [
      "Scale factors matrix: [[1. 0. 0.]\n",
      " [0. 1. 0.]\n",
      " [0. 0. 1.]]\n",
      "Orthogonality matrix: [[ 1.01074305 -0.11459167 -0.04117802]\n",
      " [ 0.          0.89225429 -0.17825395]\n",
      " [ 0.          0.          0.95270445]]\n"
     ]
    }
   ],
   "source": [
    "print(f\"Scale factors matrix: {S}\")\n",
    "print(f\"Orthogonality matrix: {T}\")"
   ],
   "metadata": {
    "collapsed": false,
    "ExecuteTime": {
     "end_time": "2024-03-17T14:43:48.111560Z",
     "start_time": "2024-03-17T14:43:48.107591Z"
    }
   },
   "id": "5ddfeaa2f285ae21",
   "execution_count": 8
  },
  {
   "cell_type": "code",
   "outputs": [],
   "source": [
    "from numpy.linalg import inv\n",
    "\n",
    "M = inv(T) @ inv(S) @ Yg @ inv(Ug)"
   ],
   "metadata": {
    "collapsed": false,
    "ExecuteTime": {
     "end_time": "2024-03-17T14:43:48.117327Z",
     "start_time": "2024-03-17T14:43:48.113200Z"
    }
   },
   "id": "e5230bfc05eca423",
   "execution_count": 9
  },
  {
   "cell_type": "code",
   "outputs": [
    {
     "name": "stdout",
     "output_type": "stream",
     "text": [
      "Misalignment matrix: [[ 0.94461362  0.20493305  0.21384422]\n",
      " [-0.25126007  0.95705756  0.07903262]\n",
      " [-0.19936788 -0.10757836  0.99275127]]\n"
     ]
    }
   ],
   "source": [
    "print(f\"Misalignment matrix: {M}\")"
   ],
   "metadata": {
    "collapsed": false,
    "ExecuteTime": {
     "end_time": "2024-03-17T14:43:48.122859Z",
     "start_time": "2024-03-17T14:43:48.119284Z"
    }
   },
   "id": "7205f3dc4c07930a",
   "execution_count": 10
  },
  {
   "cell_type": "code",
   "outputs": [],
   "source": [],
   "metadata": {
    "collapsed": false,
    "ExecuteTime": {
     "end_time": "2024-03-17T14:43:48.126454Z",
     "start_time": "2024-03-17T14:43:48.124276Z"
    }
   },
   "id": "2408d0c479b85a61",
   "execution_count": 10
  }
 ],
 "metadata": {
  "kernelspec": {
   "display_name": "Python 3",
   "language": "python",
   "name": "python3"
  },
  "language_info": {
   "codemirror_mode": {
    "name": "ipython",
    "version": 2
   },
   "file_extension": ".py",
   "mimetype": "text/x-python",
   "name": "python",
   "nbconvert_exporter": "python",
   "pygments_lexer": "ipython2",
   "version": "2.7.6"
  }
 },
 "nbformat": 4,
 "nbformat_minor": 5
}
